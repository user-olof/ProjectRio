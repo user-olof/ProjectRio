{
 "cells": [
  {
   "cell_type": "code",
   "execution_count": 1,
   "metadata": {},
   "outputs": [
    {
     "data": {
      "text/plain": [
       "'/home/olof/ProjectRio/venv/bin:/home/olof/ProjectRio/venv/bin:/home/olof/.vscode-server/bin/e4503b30fc78200f846c62cf8091b76ff5547662/bin/remote-cli:/usr/local/sbin:/usr/local/bin:/usr/sbin:/usr/bin:/sbin:/bin:/usr/games:/usr/local/games:/usr/lib/wsl/lib:/mnt/c/Python310/Scripts/:/mnt/c/Python310/:/mnt/c/Program Files (x86)/Intel/iCLS Client/:/mnt/c/Program Files/Intel/iCLS Client/:/mnt/c/WINDOWS/system32:/mnt/c/WINDOWS:/mnt/c/WINDOWS/System32/Wbem:/mnt/c/WINDOWS/System32/WindowsPowerShell/v1.0/:/mnt/c/Program Files/Lenovo/Fingerprint Manager Pro/:/mnt/c/Program Files (x86)/Lenovo/Access Connections/:/mnt/c/Program Files (x86)/Common Files/Lenovo:/mnt/c/Program Files (x86)/Common Files/lenovo/easyplussdk/bin:/mnt/c/ProgramData/Lenovo/ReadyApps:/mnt/c/Program Files/Microsoft SQL Server/130/Tools/Binn/:/mnt/c/Program Files/Microsoft SQL Server/Client SDK/ODBC/110/Tools/Binn/:/mnt/c/Program Files/TortoiseSVN/bin:/mnt/c/Program Files (x86)/MSBuild/14.0/Bin/:/mnt/c/WINDOWS/System32/OpenSSH/:/mnt/c/Program Files/dotnet/:/mnt/c/Program Files/Microsoft SQL Server/Client SDK/ODBC/170/Tools/Binn/:/mnt/c/Program Files/Intel/WiFi/bin/:/mnt/c/Program Files/Common Files/Intel/WirelessCommon/:/mnt/c/Program Files/Microsoft/Web Platform Installer/:/mnt/c/php64:/mnt/c/Program Files (x86)/Intel/Intel(R) Management Engine Components/DAL:/mnt/c/Program Files/Intel/Intel(R) Management Engine Components/DAL:/mnt/c/Program Files (x86)/Intel/Intel(R) Management Engine Components/IPT:/mnt/c/Program Files/Intel/Intel(R) Management Engine Components/IPT:/mnt/c/Program Files/Git/cmd:/mnt/c/ProgramData/chocolatey/bin:/mnt/c/Program Files/nodejs/:/mnt/c/Program Files/Microsoft SQL Server/150/Tools/Binn/:/mnt/c/Program Files/PuTTY/:/mnt/c/Program Files (x86)/dotnet/:/mnt/c/Program Files/Docker/Docker/resources/bin:/mnt/c/ProgramData/DockerDesktop/version-bin:/mnt/c/Program Files/MySQL/MySQL Shell 8.0/bin/:/mnt/c/Users/Olof/.dnx/bin:/mnt/c/Users/Olof/AppData/Local/Microsoft/WindowsApps:/mnt/c/Users/Olof/AppData/Local/Microsoft/WindowsApps:/mnt/c/Users/Olof/AppData/Roaming/npm:/mnt/c/Users/Olof/.dotnet/tools:/mnt/c/Users/Olof/AppData/Local/Programs/Microsoft VS Code/bin:/mnt/c/Users/Olof/AppData/Local/Programs/Azure Data Studio/bin:/mnt/c/Program Files/ngrok:/mnt/c/Program Files/SQLite:/mnt/c/Users/Olof/AppData/Roaming/Python/Python310/Scripts:/mnt/c/Users/Olof/PycharmProjects/ConvertHeicToJpg/dist:/mnt/c/Users/Olof/PycharmProjects/NordeaCsv/dist:/mnt/c/Program Files/MongoDB/mongosh-1.5.4-win32-x64/bin:/snap/bin'"
      ]
     },
     "execution_count": 1,
     "metadata": {},
     "output_type": "execute_result"
    }
   ],
   "source": [
    "import os\n",
    "os.getenv('PATH')"
   ]
  }
 ],
 "metadata": {
  "kernelspec": {
   "display_name": "Python 3.6.9 ('venv': venv)",
   "language": "python",
   "name": "python3"
  },
  "language_info": {
   "codemirror_mode": {
    "name": "ipython",
    "version": 3
   },
   "file_extension": ".py",
   "mimetype": "text/x-python",
   "name": "python",
   "nbconvert_exporter": "python",
   "pygments_lexer": "ipython3",
   "version": "3.6.9"
  },
  "orig_nbformat": 4,
  "vscode": {
   "interpreter": {
    "hash": "f41246de453b70c56c12722b50eb6a1a598fb9167502915595fd23ba5a70968a"
   }
  }
 },
 "nbformat": 4,
 "nbformat_minor": 2
}
